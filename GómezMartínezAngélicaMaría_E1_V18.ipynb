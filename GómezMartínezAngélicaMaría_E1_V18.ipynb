{
  "nbformat": 4,
  "nbformat_minor": 0,
  "metadata": {
    "colab": {
      "provenance": [],
      "collapsed_sections": [
        "mPdMprq5Y6fp",
        "FBe01anV4Ovc",
        "VelQRJiB5OnU",
        "HUXHLVW9wwB1",
        "N3Ib8iwo54tj",
        "rvyRqZxLygwe",
        "J-3vZRNYsc9Q",
        "cZe6lX4GsvEl"
      ],
      "include_colab_link": true
    },
    "kernelspec": {
      "name": "python3",
      "display_name": "Python 3"
    }
  },
  "cells": [
    {
      "cell_type": "markdown",
      "metadata": {
        "id": "view-in-github",
        "colab_type": "text"
      },
      "source": [
        "<a href=\"https://colab.research.google.com/github/AngelicaG9999/machine_learning/blob/master/G%C3%B3mezMart%C3%ADnezAng%C3%A9licaMar%C3%ADa_E1_V18.ipynb\" target=\"_parent\"><img src=\"https://colab.research.google.com/assets/colab-badge.svg\" alt=\"Open In Colab\"/></a>"
      ]
    },
    {
      "cell_type": "markdown",
      "metadata": {
        "id": "mPdMprq5Y6fp"
      },
      "source": [
        "# **Evaluación 1 - Machine Learning 🖼️🔥**\n"
      ]
    },
    {
      "cell_type": "markdown",
      "source": [
        "## **Sección 1**\n",
        "\n",
        "Genere las siguientes imágenes de manera sintética.\n",
        "\n",
        "**NOTA:** NO USE FUNCIONES ESPECIALES DE LIBRERÍAS DE PROCESAMIENTO DE IMÁGENES (CV, PIL, SKIMAGE) MÁS QUE PARA CARGARLAS O GUARDARLAS. USE SÓLO NUMPY Y OPERACIONES CON ARREGLOS"
      ],
      "metadata": {
        "id": "FBe01anV4Ovc"
      }
    },
    {
      "cell_type": "code",
      "metadata": {
        "id": "oF9tZiMfmsj7"
      },
      "source": [
        "# Import some libraries\n",
        "import numpy as np\n",
        "import cv2\n",
        "import matplotlib.pyplot as plt"
      ],
      "execution_count": 1,
      "outputs": []
    },
    {
      "cell_type": "markdown",
      "source": [
        "### **Ejercicio 1 (C = 0.7)**\n",
        "\n",
        "Genere la siguiente imagen [resultado](https://drive.google.com/file/d/1Z3yNgkQVFJyaCRyTzkjFhIB_3kxqs61q/view?usp=drive_link).\n",
        "\n",
        "**NOTA:** En la salida de la celda puede encontrar el tamaño de la imagen final."
      ],
      "metadata": {
        "id": "VelQRJiB5OnU"
      }
    },
    {
      "cell_type": "code",
      "source": [
        "# Lea la imagen\n",
        "image =\n",
        "\n",
        "# Realice aquí todas las operaciones que necesite. Puede añadir cuantas celdas de código requiera\n",
        "\n",
        "\n",
        "# Muestre la imagen y guardela en drive usando opencv (consultar)"
      ],
      "metadata": {
        "colab": {
          "base_uri": "https://localhost:8080/",
          "height": 106
        },
        "outputId": "7b3b7359-5d89-411c-9643-86606ceb8bcf",
        "id": "0hY8uT9kLaDU"
      },
      "execution_count": 2,
      "outputs": [
        {
          "output_type": "error",
          "ename": "SyntaxError",
          "evalue": "invalid syntax (ipython-input-3942849716.py, line 2)",
          "traceback": [
            "\u001b[0;36m  File \u001b[0;32m\"/tmp/ipython-input-3942849716.py\"\u001b[0;36m, line \u001b[0;32m2\u001b[0m\n\u001b[0;31m    image =\u001b[0m\n\u001b[0m           ^\u001b[0m\n\u001b[0;31mSyntaxError\u001b[0m\u001b[0;31m:\u001b[0m invalid syntax\n"
          ]
        }
      ]
    },
    {
      "cell_type": "markdown",
      "source": [
        "### **Ejercicio 2 (C = 1.0)**\n",
        "\n",
        "Genere la siguiente imagen [resultado](https://drive.google.com/file/d/1FjNEt4uG1svgiDlMsmv3-CVR1qcciduh/view?usp=share_link).\n",
        "\n",
        "**NOTA:** En la salida de la celda puede encontrar el tamaño de la imagen final."
      ],
      "metadata": {
        "id": "HUXHLVW9wwB1"
      }
    },
    {
      "cell_type": "code",
      "source": [
        "# Lea la imagen\n",
        "image =\n",
        "\n",
        "# Realice aquí todas las operaciones que necesite. Puede añadir cuantas celdas de código requiera\n",
        "\n",
        "\n",
        "# Muestre la imagen y guardela en drive usando opencv (consultar)"
      ],
      "metadata": {
        "id": "WVQttpqsxNKt"
      },
      "execution_count": null,
      "outputs": []
    },
    {
      "cell_type": "markdown",
      "source": [
        "## **Sección 2**\n",
        "\n",
        "Genere las siguientes imágenes usando recorridos por píxeles a partir de la imagen [lena.jpg](https://drive.google.com/file/d/1gH5sJN__2g7f9ndLhLvTECdOBJIGUbg_/view?usp=sharing)\n",
        "\n",
        "**NOTA:** NO USE FUNCIONES ESPECIALES DE LIBRERÍAS DE PROCESAMIENTO DE IMÁGENES (CV, PIL, SKIMAGE) MÁS QUE PARA CARGARLAS O GUARDARLAS. USE SÓLO NUMPY Y OPERACIONES CON ARREGLOS"
      ],
      "metadata": {
        "id": "N3Ib8iwo54tj"
      }
    },
    {
      "cell_type": "markdown",
      "source": [
        "### **Ejercicio 3 (C = 1.3)**\n",
        "\n",
        "Genere la siguiente imagen [resultado](https://drive.google.com/file/d/1-9jWSwRb1ld_xN6iHTHVKT92bGat0I4s/view?usp=sharing).\n",
        "\n",
        "**NOTA:** En la salida de la celda puede encontrar el tamaño de la imagen final."
      ],
      "metadata": {
        "id": "rvyRqZxLygwe"
      }
    },
    {
      "cell_type": "code",
      "metadata": {
        "id": "meLLP4xKh-lF"
      },
      "source": [
        "# Lea la imagen\n",
        "image =\n",
        "\n",
        "# Realice aquí todas las operaciones que necesite. Puede añadir cuantas celdas de código requiera\n",
        "\n",
        "\n",
        "# Muestre la imagen y guardela en drive usando opencv (consultar)\n"
      ],
      "execution_count": null,
      "outputs": []
    },
    {
      "cell_type": "markdown",
      "source": [
        "### **Ejercicio 4 (C = 1.3)**\n",
        "\n",
        "Genere la siguiente imagen [resultado](https://drive.google.com/file/d/1-9jWSwRb1ld_xN6iHTHVKT92bGat0I4s/view?usp=sharing)."
      ],
      "metadata": {
        "id": "J-3vZRNYsc9Q"
      }
    },
    {
      "cell_type": "code",
      "source": [
        "# Lea la imagen\n",
        "image =\n",
        "\n",
        "# Realice aquí todas las operaciones que necesite. Puede añadir cuantas celdas de código requiera\n",
        "\n",
        "\n",
        "# Muestre la imagen y guardela en drive usando opencv (consultar)\n"
      ],
      "metadata": {
        "id": "XR3lhj4L4rQc"
      },
      "execution_count": null,
      "outputs": []
    },
    {
      "cell_type": "markdown",
      "source": [
        "### **Ejercicio 5 (C = 0.7)**\n",
        "\n",
        "Genere la siguiente imagen [resultado](https://drive.google.com/file/d/10jxoa_muSn6bxsDBy7Vw88wz1oirMiRH/view?usp=drive_link)"
      ],
      "metadata": {
        "id": "cZe6lX4GsvEl"
      }
    },
    {
      "cell_type": "code",
      "source": [
        "# Lea la imagen\n",
        "image =\n",
        "\n",
        "# Realice aquí todas las operaciones que necesite. Puede añadir cuantas celdas de código requiera\n",
        "\n",
        "\n",
        "# Muestre la imagen y guardela en drive usando opencv (consultar)\n"
      ],
      "metadata": {
        "id": "t_-__eT42_-M"
      },
      "execution_count": null,
      "outputs": []
    }
  ]
}